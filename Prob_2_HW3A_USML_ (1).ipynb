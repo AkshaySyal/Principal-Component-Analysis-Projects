{
  "nbformat": 4,
  "nbformat_minor": 0,
  "metadata": {
    "colab": {
      "provenance": [],
      "collapsed_sections": [
        "Rv1FZaAqFi1X",
        "S9yDi2XWlqqp",
        "eW9N5Q-Kl_aL",
        "ehk7kYTAFnG5",
        "uJzBywUWl18_"
      ]
    },
    "kernelspec": {
      "name": "python3",
      "display_name": "Python 3"
    },
    "language_info": {
      "name": "python"
    }
  },
  "cells": [
    {
      "cell_type": "markdown",
      "source": [
        "##PROBLEM 2 : PCA library on MNIST\n",
        "A) For MNIST dataset, run a PCA-library to get data on D=5 features. Rerun the classification tasks from PB1, compare testing performance with the one from PB1. Then repeat this exercise for D=20<br>\n",
        "B) Run PCA library on Spambase and repeat one of the classification algorithms. What is the smallest D (number of PCA dimensions) you need to get a comparable test result?"
      ],
      "metadata": {
        "id": "LGikgv1-ljc4"
      }
    },
    {
      "cell_type": "code",
      "source": [
        "!pip install idx2numpy"
      ],
      "metadata": {
        "id": "yWF5KtC6fKWD",
        "colab": {
          "base_uri": "https://localhost:8080/"
        },
        "outputId": "458604ba-f7ba-4bfc-e14c-d3cf2dc16691"
      },
      "execution_count": null,
      "outputs": [
        {
          "output_type": "stream",
          "name": "stdout",
          "text": [
            "Collecting idx2numpy\n",
            "  Downloading idx2numpy-1.2.3.tar.gz (6.8 kB)\n",
            "  Preparing metadata (setup.py) ... \u001b[?25l\u001b[?25hdone\n",
            "Requirement already satisfied: numpy in /usr/local/lib/python3.10/dist-packages (from idx2numpy) (1.25.2)\n",
            "Requirement already satisfied: six in /usr/local/lib/python3.10/dist-packages (from idx2numpy) (1.16.0)\n",
            "Building wheels for collected packages: idx2numpy\n",
            "  Building wheel for idx2numpy (setup.py) ... \u001b[?25l\u001b[?25hdone\n",
            "  Created wheel for idx2numpy: filename=idx2numpy-1.2.3-py3-none-any.whl size=7904 sha256=87c1991f948cb9d642850934de08058b63e7c29c0017dcb056233f282b9f0809\n",
            "  Stored in directory: /root/.cache/pip/wheels/e0/f4/e7/643fc5f932ec2ff92997f43f007660feb23f948aa8486f1107\n",
            "Successfully built idx2numpy\n",
            "Installing collected packages: idx2numpy\n",
            "Successfully installed idx2numpy-1.2.3\n"
          ]
        }
      ]
    },
    {
      "cell_type": "code",
      "source": [
        "from google.colab import drive\n",
        "drive.mount('/content/drive')\n",
        "import numpy as np\n",
        "import idx2numpy\n",
        "import matplotlib.pyplot as plt\n",
        "import pandas as pd\n",
        "from sklearn.linear_model import LogisticRegression\n",
        "from sklearn.metrics import accuracy_score, confusion_matrix, classification_report\n",
        "from sklearn.model_selection import train_test_split\n",
        "import scipy.sparse as sp\n",
        "from sklearn.tree import DecisionTreeClassifier, plot_tree\n",
        "from sklearn.preprocessing import StandardScaler\n",
        "from sklearn.decomposition import PCA"
      ],
      "metadata": {
        "collapsed": true,
        "id": "OSGp4FCBpl9s",
        "colab": {
          "base_uri": "https://localhost:8080/"
        },
        "outputId": "2f844260-71c8-4092-a51a-cc6326b1662a"
      },
      "execution_count": null,
      "outputs": [
        {
          "output_type": "stream",
          "name": "stdout",
          "text": [
            "Mounted at /content/drive\n"
          ]
        }
      ]
    },
    {
      "cell_type": "markdown",
      "source": [
        "###A) For MNIST dataset, run a PCA-library to get data on D=5 features. Rerun the classification tasks from PB1, compare testing performance with the one from PB1. Then repeat this exercise for D=20"
      ],
      "metadata": {
        "id": "oxuDbLsCJSbt"
      }
    },
    {
      "cell_type": "markdown",
      "source": [
        "### Preprocessing MNIST"
      ],
      "metadata": {
        "id": "Rv1FZaAqFi1X"
      }
    },
    {
      "cell_type": "code",
      "source": [
        "# MNIST dataset\n",
        "mnist_images = idx2numpy.convert_from_file(\"/content/drive/MyDrive/USML/HW 3A/MNIST/train-images.idx3-ubyte\")\n",
        "mnist_images_data = mnist_images.copy()\n",
        "mnist_labels = idx2numpy.convert_from_file(\"/content/drive/MyDrive/USML/HW 3A/MNIST/train-labels.idx1-ubyte\")\n",
        "mnist_images_data = mnist_images_data.reshape(mnist_images.shape[0], -1)\n",
        "mnist_images_data = mnist_images_data / 255.\n",
        "\n",
        "mnist_images_test = idx2numpy.convert_from_file(\"/content/drive/MyDrive/USML/HW 3A/MNIST/t10k-images-idx3-ubyte\")\n",
        "mnist_images_test_data = mnist_images_test.copy()\n",
        "mnist_labels_test = idx2numpy.convert_from_file(\"/content/drive/MyDrive/USML/HW 3A/MNIST/t10k-labels-idx1-ubyte\")\n",
        "mnist_images_test_data = mnist_images_test_data.reshape(mnist_images_test.shape[0], -1)\n",
        "mnist_images_test_data = mnist_images_test_data / 255."
      ],
      "metadata": {
        "id": "6vKOdvI3qRkD"
      },
      "execution_count": null,
      "outputs": []
    },
    {
      "cell_type": "code",
      "source": [
        "# PCA\n",
        "\n",
        "pca_5 = PCA(n_components=5)\n",
        "pca_20 = PCA(n_components=20)\n",
        "\n",
        "# training data\n",
        "mnist_pca_5 = pca_5.fit_transform(mnist_images_data)\n",
        "mnist_pca_20 = pca_20.fit_transform(mnist_images_data)\n",
        "\n",
        "# test data\n",
        "mnist_test_pca_5 = pca_5.transform(mnist_images_test_data)\n",
        "mnist_test_pca_20 = pca_20.transform(mnist_images_test_data)"
      ],
      "metadata": {
        "id": "chmc1JmVvXAg"
      },
      "execution_count": null,
      "outputs": []
    },
    {
      "cell_type": "markdown",
      "source": [
        "###L2-reg Logistic Regression on MNIST"
      ],
      "metadata": {
        "id": "S9yDi2XWlqqp"
      }
    },
    {
      "cell_type": "code",
      "source": [
        "log_reg_mnist_5 = LogisticRegression(penalty='l2', solver='lbfgs', max_iter=5000, multi_class='multinomial')\n",
        "log_reg_mnist_20 = LogisticRegression(penalty='l2', solver='lbfgs', max_iter=5000, multi_class='multinomial')"
      ],
      "metadata": {
        "id": "HylfJpiXVMrB"
      },
      "execution_count": null,
      "outputs": []
    },
    {
      "cell_type": "code",
      "source": [
        "log_reg_mnist_5.fit(mnist_pca_5, mnist_labels)\n",
        "log_reg_mnist_20.fit(mnist_pca_20, mnist_labels)"
      ],
      "metadata": {
        "colab": {
          "base_uri": "https://localhost:8080/",
          "height": 75
        },
        "id": "J2qU8o9gNw5P",
        "outputId": "a5aa42d1-9e18-4783-9f48-b514b5bd05fe"
      },
      "execution_count": null,
      "outputs": [
        {
          "output_type": "execute_result",
          "data": {
            "text/plain": [
              "LogisticRegression(max_iter=5000, multi_class='multinomial')"
            ],
            "text/html": [
              "<style>#sk-container-id-1 {color: black;background-color: white;}#sk-container-id-1 pre{padding: 0;}#sk-container-id-1 div.sk-toggleable {background-color: white;}#sk-container-id-1 label.sk-toggleable__label {cursor: pointer;display: block;width: 100%;margin-bottom: 0;padding: 0.3em;box-sizing: border-box;text-align: center;}#sk-container-id-1 label.sk-toggleable__label-arrow:before {content: \"▸\";float: left;margin-right: 0.25em;color: #696969;}#sk-container-id-1 label.sk-toggleable__label-arrow:hover:before {color: black;}#sk-container-id-1 div.sk-estimator:hover label.sk-toggleable__label-arrow:before {color: black;}#sk-container-id-1 div.sk-toggleable__content {max-height: 0;max-width: 0;overflow: hidden;text-align: left;background-color: #f0f8ff;}#sk-container-id-1 div.sk-toggleable__content pre {margin: 0.2em;color: black;border-radius: 0.25em;background-color: #f0f8ff;}#sk-container-id-1 input.sk-toggleable__control:checked~div.sk-toggleable__content {max-height: 200px;max-width: 100%;overflow: auto;}#sk-container-id-1 input.sk-toggleable__control:checked~label.sk-toggleable__label-arrow:before {content: \"▾\";}#sk-container-id-1 div.sk-estimator input.sk-toggleable__control:checked~label.sk-toggleable__label {background-color: #d4ebff;}#sk-container-id-1 div.sk-label input.sk-toggleable__control:checked~label.sk-toggleable__label {background-color: #d4ebff;}#sk-container-id-1 input.sk-hidden--visually {border: 0;clip: rect(1px 1px 1px 1px);clip: rect(1px, 1px, 1px, 1px);height: 1px;margin: -1px;overflow: hidden;padding: 0;position: absolute;width: 1px;}#sk-container-id-1 div.sk-estimator {font-family: monospace;background-color: #f0f8ff;border: 1px dotted black;border-radius: 0.25em;box-sizing: border-box;margin-bottom: 0.5em;}#sk-container-id-1 div.sk-estimator:hover {background-color: #d4ebff;}#sk-container-id-1 div.sk-parallel-item::after {content: \"\";width: 100%;border-bottom: 1px solid gray;flex-grow: 1;}#sk-container-id-1 div.sk-label:hover label.sk-toggleable__label {background-color: #d4ebff;}#sk-container-id-1 div.sk-serial::before {content: \"\";position: absolute;border-left: 1px solid gray;box-sizing: border-box;top: 0;bottom: 0;left: 50%;z-index: 0;}#sk-container-id-1 div.sk-serial {display: flex;flex-direction: column;align-items: center;background-color: white;padding-right: 0.2em;padding-left: 0.2em;position: relative;}#sk-container-id-1 div.sk-item {position: relative;z-index: 1;}#sk-container-id-1 div.sk-parallel {display: flex;align-items: stretch;justify-content: center;background-color: white;position: relative;}#sk-container-id-1 div.sk-item::before, #sk-container-id-1 div.sk-parallel-item::before {content: \"\";position: absolute;border-left: 1px solid gray;box-sizing: border-box;top: 0;bottom: 0;left: 50%;z-index: -1;}#sk-container-id-1 div.sk-parallel-item {display: flex;flex-direction: column;z-index: 1;position: relative;background-color: white;}#sk-container-id-1 div.sk-parallel-item:first-child::after {align-self: flex-end;width: 50%;}#sk-container-id-1 div.sk-parallel-item:last-child::after {align-self: flex-start;width: 50%;}#sk-container-id-1 div.sk-parallel-item:only-child::after {width: 0;}#sk-container-id-1 div.sk-dashed-wrapped {border: 1px dashed gray;margin: 0 0.4em 0.5em 0.4em;box-sizing: border-box;padding-bottom: 0.4em;background-color: white;}#sk-container-id-1 div.sk-label label {font-family: monospace;font-weight: bold;display: inline-block;line-height: 1.2em;}#sk-container-id-1 div.sk-label-container {text-align: center;}#sk-container-id-1 div.sk-container {/* jupyter's `normalize.less` sets `[hidden] { display: none; }` but bootstrap.min.css set `[hidden] { display: none !important; }` so we also need the `!important` here to be able to override the default hidden behavior on the sphinx rendered scikit-learn.org. See: https://github.com/scikit-learn/scikit-learn/issues/21755 */display: inline-block !important;position: relative;}#sk-container-id-1 div.sk-text-repr-fallback {display: none;}</style><div id=\"sk-container-id-1\" class=\"sk-top-container\"><div class=\"sk-text-repr-fallback\"><pre>LogisticRegression(max_iter=5000, multi_class=&#x27;multinomial&#x27;)</pre><b>In a Jupyter environment, please rerun this cell to show the HTML representation or trust the notebook. <br />On GitHub, the HTML representation is unable to render, please try loading this page with nbviewer.org.</b></div><div class=\"sk-container\" hidden><div class=\"sk-item\"><div class=\"sk-estimator sk-toggleable\"><input class=\"sk-toggleable__control sk-hidden--visually\" id=\"sk-estimator-id-1\" type=\"checkbox\" checked><label for=\"sk-estimator-id-1\" class=\"sk-toggleable__label sk-toggleable__label-arrow\">LogisticRegression</label><div class=\"sk-toggleable__content\"><pre>LogisticRegression(max_iter=5000, multi_class=&#x27;multinomial&#x27;)</pre></div></div></div></div></div>"
            ]
          },
          "metadata": {},
          "execution_count": 6
        }
      ]
    },
    {
      "cell_type": "markdown",
      "source": [
        "#### Classification performance"
      ],
      "metadata": {
        "id": "CzWGSqmaw2NT"
      }
    },
    {
      "cell_type": "code",
      "source": [
        "# Testing performance from PB1"
      ],
      "metadata": {
        "id": "4yLbc3mTBXzN"
      },
      "execution_count": null,
      "outputs": []
    },
    {
      "cell_type": "code",
      "source": [
        "# Testing performance for D=5\n",
        "mnist_pred = log_reg_mnist_5.predict(mnist_test_pca_5)\n",
        "accuracy = accuracy_score(mnist_labels_test, mnist_pred)\n",
        "print(f\"Accuracy: {accuracy:.4f}\")\n",
        "\n",
        "class_report = classification_report(mnist_labels_test, mnist_pred)\n",
        "print(\"Classification Report:\")\n",
        "print(class_report)"
      ],
      "metadata": {
        "colab": {
          "base_uri": "https://localhost:8080/"
        },
        "id": "2BK0_wNyOXnZ",
        "outputId": "172e8f7d-47fd-4245-a316-93aaf49521dc"
      },
      "execution_count": null,
      "outputs": [
        {
          "output_type": "stream",
          "name": "stdout",
          "text": [
            "Accuracy: 0.6875\n",
            "Classification Report:\n",
            "              precision    recall  f1-score   support\n",
            "\n",
            "           0       0.86      0.88      0.87       980\n",
            "           1       0.87      0.94      0.90      1135\n",
            "           2       0.63      0.54      0.58      1032\n",
            "           3       0.65      0.72      0.68      1010\n",
            "           4       0.62      0.68      0.65       982\n",
            "           5       0.62      0.52      0.56       892\n",
            "           6       0.62      0.67      0.65       958\n",
            "           7       0.73      0.73      0.73      1028\n",
            "           8       0.64      0.63      0.64       974\n",
            "           9       0.57      0.53      0.55      1009\n",
            "\n",
            "    accuracy                           0.69     10000\n",
            "   macro avg       0.68      0.68      0.68     10000\n",
            "weighted avg       0.68      0.69      0.68     10000\n",
            "\n"
          ]
        }
      ]
    },
    {
      "cell_type": "code",
      "source": [
        "# Testing performance for D=20\n",
        "mnist_pred = log_reg_mnist_20.predict(mnist_test_pca_20)\n",
        "accuracy = accuracy_score(mnist_labels_test, mnist_pred)\n",
        "print(f\"Accuracy: {accuracy:.4f}\")\n",
        "\n",
        "# Classification report\n",
        "class_report = classification_report(mnist_labels_test, mnist_pred)\n",
        "print(\"Classification Report:\")\n",
        "print(class_report)"
      ],
      "metadata": {
        "colab": {
          "base_uri": "https://localhost:8080/"
        },
        "id": "-kUszsP4Ooqx",
        "outputId": "b0548fdf-d46d-43c1-8bd6-5b3d29a3cb66"
      },
      "execution_count": null,
      "outputs": [
        {
          "output_type": "stream",
          "name": "stdout",
          "text": [
            "Accuracy: 0.8802\n",
            "Classification Report:\n",
            "              precision    recall  f1-score   support\n",
            "\n",
            "           0       0.93      0.96      0.95       980\n",
            "           1       0.95      0.97      0.96      1135\n",
            "           2       0.87      0.84      0.86      1032\n",
            "           3       0.86      0.87      0.86      1010\n",
            "           4       0.86      0.89      0.87       982\n",
            "           5       0.82      0.81      0.81       892\n",
            "           6       0.91      0.91      0.91       958\n",
            "           7       0.91      0.89      0.90      1028\n",
            "           8       0.84      0.81      0.82       974\n",
            "           9       0.84      0.83      0.83      1009\n",
            "\n",
            "    accuracy                           0.88     10000\n",
            "   macro avg       0.88      0.88      0.88     10000\n",
            "weighted avg       0.88      0.88      0.88     10000\n",
            "\n"
          ]
        }
      ]
    },
    {
      "cell_type": "markdown",
      "source": [
        "###Decision Tree on MNIST"
      ],
      "metadata": {
        "id": "eW9N5Q-Kl_aL"
      }
    },
    {
      "cell_type": "code",
      "source": [
        "tree_clf_mnist_5 = DecisionTreeClassifier()\n",
        "tree_clf_mnist_20 = DecisionTreeClassifier()"
      ],
      "metadata": {
        "id": "WX9rsciJmEKX"
      },
      "execution_count": null,
      "outputs": []
    },
    {
      "cell_type": "code",
      "source": [
        "tree_clf_mnist_5.fit(mnist_pca_5, mnist_labels)\n",
        "tree_clf_mnist_20.fit(mnist_pca_20, mnist_labels)"
      ],
      "metadata": {
        "colab": {
          "base_uri": "https://localhost:8080/",
          "height": 75
        },
        "id": "SGX4d0yBRKH4",
        "outputId": "1d85b6c1-208b-488f-ce9d-8569687aeef4"
      },
      "execution_count": null,
      "outputs": [
        {
          "output_type": "execute_result",
          "data": {
            "text/plain": [
              "DecisionTreeClassifier()"
            ],
            "text/html": [
              "<style>#sk-container-id-2 {color: black;background-color: white;}#sk-container-id-2 pre{padding: 0;}#sk-container-id-2 div.sk-toggleable {background-color: white;}#sk-container-id-2 label.sk-toggleable__label {cursor: pointer;display: block;width: 100%;margin-bottom: 0;padding: 0.3em;box-sizing: border-box;text-align: center;}#sk-container-id-2 label.sk-toggleable__label-arrow:before {content: \"▸\";float: left;margin-right: 0.25em;color: #696969;}#sk-container-id-2 label.sk-toggleable__label-arrow:hover:before {color: black;}#sk-container-id-2 div.sk-estimator:hover label.sk-toggleable__label-arrow:before {color: black;}#sk-container-id-2 div.sk-toggleable__content {max-height: 0;max-width: 0;overflow: hidden;text-align: left;background-color: #f0f8ff;}#sk-container-id-2 div.sk-toggleable__content pre {margin: 0.2em;color: black;border-radius: 0.25em;background-color: #f0f8ff;}#sk-container-id-2 input.sk-toggleable__control:checked~div.sk-toggleable__content {max-height: 200px;max-width: 100%;overflow: auto;}#sk-container-id-2 input.sk-toggleable__control:checked~label.sk-toggleable__label-arrow:before {content: \"▾\";}#sk-container-id-2 div.sk-estimator input.sk-toggleable__control:checked~label.sk-toggleable__label {background-color: #d4ebff;}#sk-container-id-2 div.sk-label input.sk-toggleable__control:checked~label.sk-toggleable__label {background-color: #d4ebff;}#sk-container-id-2 input.sk-hidden--visually {border: 0;clip: rect(1px 1px 1px 1px);clip: rect(1px, 1px, 1px, 1px);height: 1px;margin: -1px;overflow: hidden;padding: 0;position: absolute;width: 1px;}#sk-container-id-2 div.sk-estimator {font-family: monospace;background-color: #f0f8ff;border: 1px dotted black;border-radius: 0.25em;box-sizing: border-box;margin-bottom: 0.5em;}#sk-container-id-2 div.sk-estimator:hover {background-color: #d4ebff;}#sk-container-id-2 div.sk-parallel-item::after {content: \"\";width: 100%;border-bottom: 1px solid gray;flex-grow: 1;}#sk-container-id-2 div.sk-label:hover label.sk-toggleable__label {background-color: #d4ebff;}#sk-container-id-2 div.sk-serial::before {content: \"\";position: absolute;border-left: 1px solid gray;box-sizing: border-box;top: 0;bottom: 0;left: 50%;z-index: 0;}#sk-container-id-2 div.sk-serial {display: flex;flex-direction: column;align-items: center;background-color: white;padding-right: 0.2em;padding-left: 0.2em;position: relative;}#sk-container-id-2 div.sk-item {position: relative;z-index: 1;}#sk-container-id-2 div.sk-parallel {display: flex;align-items: stretch;justify-content: center;background-color: white;position: relative;}#sk-container-id-2 div.sk-item::before, #sk-container-id-2 div.sk-parallel-item::before {content: \"\";position: absolute;border-left: 1px solid gray;box-sizing: border-box;top: 0;bottom: 0;left: 50%;z-index: -1;}#sk-container-id-2 div.sk-parallel-item {display: flex;flex-direction: column;z-index: 1;position: relative;background-color: white;}#sk-container-id-2 div.sk-parallel-item:first-child::after {align-self: flex-end;width: 50%;}#sk-container-id-2 div.sk-parallel-item:last-child::after {align-self: flex-start;width: 50%;}#sk-container-id-2 div.sk-parallel-item:only-child::after {width: 0;}#sk-container-id-2 div.sk-dashed-wrapped {border: 1px dashed gray;margin: 0 0.4em 0.5em 0.4em;box-sizing: border-box;padding-bottom: 0.4em;background-color: white;}#sk-container-id-2 div.sk-label label {font-family: monospace;font-weight: bold;display: inline-block;line-height: 1.2em;}#sk-container-id-2 div.sk-label-container {text-align: center;}#sk-container-id-2 div.sk-container {/* jupyter's `normalize.less` sets `[hidden] { display: none; }` but bootstrap.min.css set `[hidden] { display: none !important; }` so we also need the `!important` here to be able to override the default hidden behavior on the sphinx rendered scikit-learn.org. See: https://github.com/scikit-learn/scikit-learn/issues/21755 */display: inline-block !important;position: relative;}#sk-container-id-2 div.sk-text-repr-fallback {display: none;}</style><div id=\"sk-container-id-2\" class=\"sk-top-container\"><div class=\"sk-text-repr-fallback\"><pre>DecisionTreeClassifier()</pre><b>In a Jupyter environment, please rerun this cell to show the HTML representation or trust the notebook. <br />On GitHub, the HTML representation is unable to render, please try loading this page with nbviewer.org.</b></div><div class=\"sk-container\" hidden><div class=\"sk-item\"><div class=\"sk-estimator sk-toggleable\"><input class=\"sk-toggleable__control sk-hidden--visually\" id=\"sk-estimator-id-2\" type=\"checkbox\" checked><label for=\"sk-estimator-id-2\" class=\"sk-toggleable__label sk-toggleable__label-arrow\">DecisionTreeClassifier</label><div class=\"sk-toggleable__content\"><pre>DecisionTreeClassifier()</pre></div></div></div></div></div>"
            ]
          },
          "metadata": {},
          "execution_count": 11
        }
      ]
    },
    {
      "cell_type": "markdown",
      "source": [
        "#### Classification performance"
      ],
      "metadata": {
        "id": "9P-jMRkezEDz"
      }
    },
    {
      "cell_type": "code",
      "source": [
        "# Testing performance from PB1"
      ],
      "metadata": {
        "colab": {
          "base_uri": "https://localhost:8080/"
        },
        "id": "IeA47aRZH8Wi",
        "outputId": "df8d0f38-4b3c-4747-d87a-5f7bd69a61e8"
      },
      "execution_count": null,
      "outputs": [
        {
          "output_type": "stream",
          "name": "stdout",
          "text": [
            "Accuracy: 0.8916\n",
            "Classification Report:\n",
            "              precision    recall  f1-score   support\n",
            "\n",
            "           0       0.93      0.94      0.93       980\n",
            "           1       0.94      0.96      0.95      1135\n",
            "           2       0.88      0.88      0.88      1032\n",
            "           3       0.84      0.86      0.85      1010\n",
            "           4       0.89      0.90      0.90       982\n",
            "           5       0.87      0.84      0.85       892\n",
            "           6       0.91      0.91      0.91       958\n",
            "           7       0.93      0.91      0.92      1028\n",
            "           8       0.83      0.82      0.83       974\n",
            "           9       0.88      0.88      0.88      1009\n",
            "\n",
            "    accuracy                           0.89     10000\n",
            "   macro avg       0.89      0.89      0.89     10000\n",
            "weighted avg       0.89      0.89      0.89     10000\n"
          ]
        }
      ]
    },
    {
      "cell_type": "code",
      "source": [
        "mnist_pred_dt = tree_clf_mnist_5.predict(mnist_test_pca_5)\n",
        "accuracy = accuracy_score(mnist_labels_test, mnist_pred_dt)\n",
        "print(f\"Accuracy: {accuracy:.4f}\")\n",
        "\n",
        "# Classification report\n",
        "class_report = classification_report(mnist_labels_test, mnist_pred_dt)\n",
        "print(\"Classification Report:\")\n",
        "print(class_report)"
      ],
      "metadata": {
        "colab": {
          "base_uri": "https://localhost:8080/"
        },
        "id": "APqDQUhiT-oV",
        "outputId": "06fcf3e8-f808-43f4-ae56-5d562d34bd2b"
      },
      "execution_count": null,
      "outputs": [
        {
          "output_type": "stream",
          "name": "stdout",
          "text": [
            "Accuracy: 0.6715\n",
            "Classification Report:\n",
            "              precision    recall  f1-score   support\n",
            "\n",
            "           0       0.83      0.84      0.84       980\n",
            "           1       0.92      0.94      0.93      1135\n",
            "           2       0.62      0.63      0.63      1032\n",
            "           3       0.63      0.65      0.64      1010\n",
            "           4       0.58      0.58      0.58       982\n",
            "           5       0.64      0.63      0.63       892\n",
            "           6       0.63      0.62      0.63       958\n",
            "           7       0.70      0.69      0.70      1028\n",
            "           8       0.60      0.57      0.59       974\n",
            "           9       0.52      0.53      0.52      1009\n",
            "\n",
            "    accuracy                           0.67     10000\n",
            "   macro avg       0.67      0.67      0.67     10000\n",
            "weighted avg       0.67      0.67      0.67     10000\n",
            "\n"
          ]
        }
      ]
    },
    {
      "cell_type": "code",
      "source": [
        "mnist_pred_dt = tree_clf_mnist_20.predict(mnist_test_pca_20)\n",
        "accuracy = accuracy_score(mnist_labels_test, mnist_pred_dt)\n",
        "print(f\"Accuracy: {accuracy:.4f}\")\n",
        "\n",
        "# Classification report\n",
        "class_report = classification_report(mnist_labels_test, mnist_pred_dt)\n",
        "print(\"Classification Report:\")\n",
        "print(class_report)"
      ],
      "metadata": {
        "colab": {
          "base_uri": "https://localhost:8080/"
        },
        "id": "60zyL3w5Uvo7",
        "outputId": "d001b53e-2ed6-4051-f37a-f305b70f20ba"
      },
      "execution_count": null,
      "outputs": [
        {
          "output_type": "stream",
          "name": "stdout",
          "text": [
            "Accuracy: 0.8467\n",
            "Classification Report:\n",
            "              precision    recall  f1-score   support\n",
            "\n",
            "           0       0.89      0.91      0.90       980\n",
            "           1       0.95      0.97      0.96      1135\n",
            "           2       0.86      0.83      0.85      1032\n",
            "           3       0.80      0.82      0.81      1010\n",
            "           4       0.84      0.82      0.83       982\n",
            "           5       0.78      0.78      0.78       892\n",
            "           6       0.89      0.90      0.89       958\n",
            "           7       0.87      0.86      0.86      1028\n",
            "           8       0.78      0.76      0.77       974\n",
            "           9       0.78      0.80      0.79      1009\n",
            "\n",
            "    accuracy                           0.85     10000\n",
            "   macro avg       0.84      0.84      0.84     10000\n",
            "weighted avg       0.85      0.85      0.85     10000\n",
            "\n"
          ]
        }
      ]
    },
    {
      "cell_type": "markdown",
      "source": [
        "###B) Run PCA library on Spambase and repeat one of the classification algorithms. What is the smallest D (number of PCA dimensions) you need to get a comparable test result?"
      ],
      "metadata": {
        "id": "8qO_ZwbSJhO9"
      }
    },
    {
      "cell_type": "markdown",
      "source": [
        "###Preprocessing Spambase"
      ],
      "metadata": {
        "id": "ehk7kYTAFnG5"
      }
    },
    {
      "cell_type": "code",
      "source": [
        "# Spambase dataset\n",
        "spambase_dataset = np.loadtxt('/content/drive/MyDrive/USML/HW 3A/spambase/spambase.data', delimiter=',')\n",
        "spambase_labels = spambase_dataset[:,57]\n",
        "spambase_data = spambase_dataset[:,:57]\n",
        "\n",
        "spambase_train_data, spambase_test_data, spambase_train_lbl, spambase_test_lbl = train_test_split(spambase_data, spambase_labels, test_size=0.2, random_state=42)\n",
        "\n",
        "# Specify the path to your file\n",
        "file_path = '/content/drive/MyDrive/USML/HW 3A/spambase/features'\n",
        "\n",
        "# Open the file for reading\n",
        "with open(file_path, 'r') as file:\n",
        "    # Read each line in the file\n",
        "    lines = file.readlines()\n",
        "\n",
        "target_names = [string.strip() for string in lines]"
      ],
      "metadata": {
        "id": "ea8rAMpwqsVC"
      },
      "execution_count": null,
      "outputs": []
    },
    {
      "cell_type": "code",
      "source": [
        "# PCA\n",
        "\n",
        "D = 30\n",
        "pca = PCA(n_components=D)\n",
        "spambase_pca_train = pca.fit_transform(spambase_train_data)\n",
        "\n",
        "# test data\n",
        "spambase_pca_test = pca.transform(spambase_test_data)"
      ],
      "metadata": {
        "id": "Rek66j5QjwRg"
      },
      "execution_count": null,
      "outputs": []
    },
    {
      "cell_type": "markdown",
      "source": [
        "###L2-reg Logistic Regression on Spambase"
      ],
      "metadata": {
        "id": "uJzBywUWl18_"
      }
    },
    {
      "cell_type": "code",
      "source": [
        "log_reg_spambase = LogisticRegression(penalty='l2', solver='lbfgs', max_iter=5000)\n",
        "log_reg_spambase.fit(spambase_pca_train, spambase_train_lbl)"
      ],
      "metadata": {
        "id": "67fh_qJxl45k",
        "colab": {
          "base_uri": "https://localhost:8080/",
          "height": 75
        },
        "outputId": "a2a545f3-9597-4f9c-94ba-e00429148362"
      },
      "execution_count": null,
      "outputs": [
        {
          "output_type": "execute_result",
          "data": {
            "text/plain": [
              "LogisticRegression(max_iter=5000)"
            ],
            "text/html": [
              "<style>#sk-container-id-3 {color: black;background-color: white;}#sk-container-id-3 pre{padding: 0;}#sk-container-id-3 div.sk-toggleable {background-color: white;}#sk-container-id-3 label.sk-toggleable__label {cursor: pointer;display: block;width: 100%;margin-bottom: 0;padding: 0.3em;box-sizing: border-box;text-align: center;}#sk-container-id-3 label.sk-toggleable__label-arrow:before {content: \"▸\";float: left;margin-right: 0.25em;color: #696969;}#sk-container-id-3 label.sk-toggleable__label-arrow:hover:before {color: black;}#sk-container-id-3 div.sk-estimator:hover label.sk-toggleable__label-arrow:before {color: black;}#sk-container-id-3 div.sk-toggleable__content {max-height: 0;max-width: 0;overflow: hidden;text-align: left;background-color: #f0f8ff;}#sk-container-id-3 div.sk-toggleable__content pre {margin: 0.2em;color: black;border-radius: 0.25em;background-color: #f0f8ff;}#sk-container-id-3 input.sk-toggleable__control:checked~div.sk-toggleable__content {max-height: 200px;max-width: 100%;overflow: auto;}#sk-container-id-3 input.sk-toggleable__control:checked~label.sk-toggleable__label-arrow:before {content: \"▾\";}#sk-container-id-3 div.sk-estimator input.sk-toggleable__control:checked~label.sk-toggleable__label {background-color: #d4ebff;}#sk-container-id-3 div.sk-label input.sk-toggleable__control:checked~label.sk-toggleable__label {background-color: #d4ebff;}#sk-container-id-3 input.sk-hidden--visually {border: 0;clip: rect(1px 1px 1px 1px);clip: rect(1px, 1px, 1px, 1px);height: 1px;margin: -1px;overflow: hidden;padding: 0;position: absolute;width: 1px;}#sk-container-id-3 div.sk-estimator {font-family: monospace;background-color: #f0f8ff;border: 1px dotted black;border-radius: 0.25em;box-sizing: border-box;margin-bottom: 0.5em;}#sk-container-id-3 div.sk-estimator:hover {background-color: #d4ebff;}#sk-container-id-3 div.sk-parallel-item::after {content: \"\";width: 100%;border-bottom: 1px solid gray;flex-grow: 1;}#sk-container-id-3 div.sk-label:hover label.sk-toggleable__label {background-color: #d4ebff;}#sk-container-id-3 div.sk-serial::before {content: \"\";position: absolute;border-left: 1px solid gray;box-sizing: border-box;top: 0;bottom: 0;left: 50%;z-index: 0;}#sk-container-id-3 div.sk-serial {display: flex;flex-direction: column;align-items: center;background-color: white;padding-right: 0.2em;padding-left: 0.2em;position: relative;}#sk-container-id-3 div.sk-item {position: relative;z-index: 1;}#sk-container-id-3 div.sk-parallel {display: flex;align-items: stretch;justify-content: center;background-color: white;position: relative;}#sk-container-id-3 div.sk-item::before, #sk-container-id-3 div.sk-parallel-item::before {content: \"\";position: absolute;border-left: 1px solid gray;box-sizing: border-box;top: 0;bottom: 0;left: 50%;z-index: -1;}#sk-container-id-3 div.sk-parallel-item {display: flex;flex-direction: column;z-index: 1;position: relative;background-color: white;}#sk-container-id-3 div.sk-parallel-item:first-child::after {align-self: flex-end;width: 50%;}#sk-container-id-3 div.sk-parallel-item:last-child::after {align-self: flex-start;width: 50%;}#sk-container-id-3 div.sk-parallel-item:only-child::after {width: 0;}#sk-container-id-3 div.sk-dashed-wrapped {border: 1px dashed gray;margin: 0 0.4em 0.5em 0.4em;box-sizing: border-box;padding-bottom: 0.4em;background-color: white;}#sk-container-id-3 div.sk-label label {font-family: monospace;font-weight: bold;display: inline-block;line-height: 1.2em;}#sk-container-id-3 div.sk-label-container {text-align: center;}#sk-container-id-3 div.sk-container {/* jupyter's `normalize.less` sets `[hidden] { display: none; }` but bootstrap.min.css set `[hidden] { display: none !important; }` so we also need the `!important` here to be able to override the default hidden behavior on the sphinx rendered scikit-learn.org. See: https://github.com/scikit-learn/scikit-learn/issues/21755 */display: inline-block !important;position: relative;}#sk-container-id-3 div.sk-text-repr-fallback {display: none;}</style><div id=\"sk-container-id-3\" class=\"sk-top-container\"><div class=\"sk-text-repr-fallback\"><pre>LogisticRegression(max_iter=5000)</pre><b>In a Jupyter environment, please rerun this cell to show the HTML representation or trust the notebook. <br />On GitHub, the HTML representation is unable to render, please try loading this page with nbviewer.org.</b></div><div class=\"sk-container\" hidden><div class=\"sk-item\"><div class=\"sk-estimator sk-toggleable\"><input class=\"sk-toggleable__control sk-hidden--visually\" id=\"sk-estimator-id-3\" type=\"checkbox\" checked><label for=\"sk-estimator-id-3\" class=\"sk-toggleable__label sk-toggleable__label-arrow\">LogisticRegression</label><div class=\"sk-toggleable__content\"><pre>LogisticRegression(max_iter=5000)</pre></div></div></div></div></div>"
            ]
          },
          "metadata": {},
          "execution_count": 17
        }
      ]
    },
    {
      "cell_type": "markdown",
      "source": [
        "#### Classification performance"
      ],
      "metadata": {
        "id": "60UqdUIODkka"
      }
    },
    {
      "cell_type": "code",
      "source": [
        "# Performace on PB1 (57 features)"
      ],
      "metadata": {
        "colab": {
          "base_uri": "https://localhost:8080/"
        },
        "id": "rYt_7Bc_DtNA",
        "outputId": "cfdb6ae0-2a46-488d-b8e7-caeae118e3c4"
      },
      "execution_count": null,
      "outputs": [
        {
          "output_type": "stream",
          "name": "stdout",
          "text": [
            "Accuracy: 0.9218\n",
            "Classification Report:\n",
            "              precision    recall  f1-score   support\n",
            "\n",
            "         0.0       0.92      0.95      0.93       531\n",
            "         1.0       0.93      0.88      0.91       390\n",
            "\n",
            "    accuracy                           0.92       921\n",
            "   macro avg       0.92      0.92      0.92       921\n",
            "weighted avg       0.92      0.92      0.92       921\n"
          ]
        }
      ]
    },
    {
      "cell_type": "code",
      "source": [
        "print(f\"Number of features: {D}\")\n",
        "spambase_pred = log_reg_spambase.predict(spambase_pca_test)\n",
        "accuracy = accuracy_score(spambase_test_lbl, spambase_pred)\n",
        "print(f\"Accuracy: {accuracy:.4f}\")\n",
        "\n",
        "# Classification report\n",
        "class_report = classification_report(spambase_test_lbl, spambase_pred)\n",
        "print(\"Classification Report:\")\n",
        "print(class_report)"
      ],
      "metadata": {
        "id": "ICnDJYM1DooX",
        "colab": {
          "base_uri": "https://localhost:8080/"
        },
        "outputId": "ba47077e-d09b-4ed9-f55b-304528916db5"
      },
      "execution_count": null,
      "outputs": [
        {
          "output_type": "stream",
          "name": "stdout",
          "text": [
            "Number of features: 30\n",
            "Accuracy: 0.9099\n",
            "Classification Report:\n",
            "              precision    recall  f1-score   support\n",
            "\n",
            "         0.0       0.91      0.93      0.92       531\n",
            "         1.0       0.91      0.88      0.89       390\n",
            "\n",
            "    accuracy                           0.91       921\n",
            "   macro avg       0.91      0.91      0.91       921\n",
            "weighted avg       0.91      0.91      0.91       921\n",
            "\n"
          ]
        }
      ]
    },
    {
      "cell_type": "code",
      "source": [],
      "metadata": {
        "id": "L_zMVDMQnT1G"
      },
      "execution_count": null,
      "outputs": []
    }
  ]
}