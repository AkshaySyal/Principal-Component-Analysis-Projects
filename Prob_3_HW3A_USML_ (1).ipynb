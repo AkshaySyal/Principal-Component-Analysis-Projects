{
  "nbformat": 4,
  "nbformat_minor": 0,
  "metadata": {
    "colab": {
      "provenance": []
    },
    "kernelspec": {
      "name": "python3",
      "display_name": "Python 3"
    },
    "language_info": {
      "name": "python"
    }
  },
  "cells": [
    {
      "cell_type": "markdown",
      "source": [
        "##PROBLEM 3 : Implement PCA on MNIST\n",
        "Repeat PB2 exercises on MNIST (D=5 and D=20) with your own PCA implementation. You can use any built-in library/package/API for : matrix storage/multiplication, covariance computation, eigenvalue or SVD decomposition, etc. Matlab is probably the easiest language for implementing PCA due to its excellent linear algebra support."
      ],
      "metadata": {
        "id": "LGikgv1-ljc4"
      }
    },
    {
      "cell_type": "code",
      "source": [
        "!pip install idx2numpy"
      ],
      "metadata": {
        "id": "yWF5KtC6fKWD"
      },
      "execution_count": null,
      "outputs": []
    },
    {
      "cell_type": "code",
      "source": [
        "from google.colab import drive\n",
        "drive.mount('/content/drive')\n",
        "import numpy as np\n",
        "import idx2numpy\n",
        "import matplotlib.pyplot as plt\n",
        "from sklearn.linear_model import LogisticRegression\n",
        "from sklearn.metrics import accuracy_score, confusion_matrix, classification_report\n",
        "from sklearn.model_selection import train_test_split\n",
        "from sklearn.tree import DecisionTreeClassifier"
      ],
      "metadata": {
        "collapsed": true,
        "id": "OSGp4FCBpl9s",
        "colab": {
          "base_uri": "https://localhost:8080/"
        },
        "outputId": "03f73e0d-fbed-46b4-b478-4c29ccadc88f"
      },
      "execution_count": null,
      "outputs": [
        {
          "output_type": "stream",
          "name": "stdout",
          "text": [
            "Drive already mounted at /content/drive; to attempt to forcibly remount, call drive.mount(\"/content/drive\", force_remount=True).\n"
          ]
        }
      ]
    },
    {
      "cell_type": "markdown",
      "source": [
        "###PCA implementation"
      ],
      "metadata": {
        "id": "-pdYvzIBYZnQ"
      }
    },
    {
      "cell_type": "code",
      "source": [
        "class PCA_implementation:\n",
        "  def __init__(self,n_components):\n",
        "    self.n_components = n_components\n",
        "    self.covariance_matrix = None\n",
        "    self.eigenvalues = None\n",
        "    self.eigenvectors = None\n",
        "\n",
        "  def fit(self,X):\n",
        "    # Center the data by subtracting mean from each data point\n",
        "    mean = np.mean(X, axis=0)\n",
        "    X_centered = X - mean\n",
        "\n",
        "    # Get Covariance Matrix (Cov) (dxd)\n",
        "    self.covariance_matrix = 1/(X.shape[0]-1) * X_centered.T @ X_centered\n",
        "\n",
        "    # Get Eigen Vectors and Eigen Values from Cov\n",
        "    eigenvalues, eigenvectors = np.linalg.eigh(self.covariance_matrix)\n",
        "\n",
        "    # Projection Matrix P = Eigen Vectors * Sqrt(Eigen Values) = (dxd)\n",
        "    descending_indices = np.arange(X.shape[1]-1,-1,-1)\n",
        "    eigenvalues = eigenvalues[descending_indices]\n",
        "    eigenvectors = eigenvectors[:, descending_indices]\n",
        "    #eigenvalues = np.clip(eigenvalues, a_min=0, a_max=None)\n",
        "\n",
        "    self.eigenvalues = eigenvalues\n",
        "    self.eigenvectors = eigenvectors[:,:self.n_components]\n",
        "\n",
        "    return self\n",
        "\n",
        "  def transform(self,X):\n",
        "    # Return Projected k Components : X(nxd) . P_(dxk) = X_(nxk)\n",
        "    # NOTE:\n",
        "    # sklearn implementation of PCA does not calculate projection matrix like this\n",
        "    # projection_matrix = eigenvectors @ np.diag(np.sqrt(eigenvalues))\n",
        "    mean = np.mean(X, axis=0)\n",
        "    X_centered = X - mean\n",
        "    return X_centered @ self.eigenvectors\n",
        "\n",
        "\n",
        "  def fit_transform(self,X):\n",
        "    self.fit(X)\n",
        "    return self.transform(X)\n"
      ],
      "metadata": {
        "id": "cdTR8aqlZGYF"
      },
      "execution_count": null,
      "outputs": []
    },
    {
      "cell_type": "code",
      "source": [
        "# TESTING by simple eg\n",
        "# points on line y = x+1\n",
        "X = np.array([[1, 2], [2, 3], [3, 4],[4,5],[5,6]])\n",
        "\n",
        "pca_ = PCA_implementation(n_components=1)\n",
        "print('My PCA implementation result: \\n')\n",
        "print(pca_.fit_transform(X),'\\n')\n",
        "\n",
        "from sklearn.decomposition import PCA\n",
        "print('PCA lib result: \\n')\n",
        "pca = PCA(n_components=1)\n",
        "print(pca.fit_transform(X))\n"
      ],
      "metadata": {
        "colab": {
          "base_uri": "https://localhost:8080/"
        },
        "id": "B6QCn1yoasl-",
        "outputId": "831d957b-c719-4065-c46e-83c19a1615d9"
      },
      "execution_count": null,
      "outputs": [
        {
          "output_type": "stream",
          "name": "stdout",
          "text": [
            "My PCA implementation result: \n",
            "\n",
            "[[-2.82842712]\n",
            " [-1.41421356]\n",
            " [ 0.        ]\n",
            " [ 1.41421356]\n",
            " [ 2.82842712]] \n",
            "\n",
            "PCA lib result: \n",
            "\n",
            "[[ 2.82842712]\n",
            " [ 1.41421356]\n",
            " [-0.        ]\n",
            " [-1.41421356]\n",
            " [-2.82842712]]\n"
          ]
        }
      ]
    },
    {
      "cell_type": "markdown",
      "source": [
        "###A) For MNIST dataset, run a PCA-library to get data on D=5 features. Rerun the classification tasks from PB1, compare testing performance with the one from PB1. Then repeat this exercise for D=20"
      ],
      "metadata": {
        "id": "oxuDbLsCJSbt"
      }
    },
    {
      "cell_type": "markdown",
      "source": [
        "### Preprocessing MNIST"
      ],
      "metadata": {
        "id": "Rv1FZaAqFi1X"
      }
    },
    {
      "cell_type": "code",
      "source": [
        "# MNIST dataset\n",
        "mnist_images = idx2numpy.convert_from_file(\"/content/drive/MyDrive/USML/HW 3A/MNIST/train-images.idx3-ubyte\")\n",
        "mnist_images_data = mnist_images.copy()\n",
        "mnist_labels = idx2numpy.convert_from_file(\"/content/drive/MyDrive/USML/HW 3A/MNIST/train-labels.idx1-ubyte\")\n",
        "mnist_images_data = mnist_images_data.reshape(mnist_images.shape[0], -1)\n",
        "mnist_images_data = mnist_images_data / 255.\n",
        "\n",
        "mnist_images_test = idx2numpy.convert_from_file(\"/content/drive/MyDrive/USML/HW 3A/MNIST/t10k-images-idx3-ubyte\")\n",
        "mnist_images_test_data = mnist_images_test.copy()\n",
        "mnist_labels_test = idx2numpy.convert_from_file(\"/content/drive/MyDrive/USML/HW 3A/MNIST/t10k-labels-idx1-ubyte\")\n",
        "mnist_images_test_data = mnist_images_test_data.reshape(mnist_images_test.shape[0], -1)\n",
        "mnist_images_test_data = mnist_images_test_data / 255."
      ],
      "metadata": {
        "id": "6vKOdvI3qRkD"
      },
      "execution_count": null,
      "outputs": []
    },
    {
      "cell_type": "code",
      "source": [
        "# PCA\n",
        "\n",
        "pca_5 = PCA_implementation(n_components=5)\n",
        "pca_20 = PCA_implementation(n_components=20)\n",
        "\n",
        "# training data\n",
        "mnist_pca_5 = pca_5.fit_transform(mnist_images_data)\n",
        "mnist_pca_20 = pca_20.fit_transform(mnist_images_data)\n",
        "\n",
        "# test data\n",
        "mnist_test_pca_5 = pca_5.transform(mnist_images_test_data)\n",
        "mnist_test_pca_20 = pca_20.transform(mnist_images_test_data)"
      ],
      "metadata": {
        "id": "chmc1JmVvXAg"
      },
      "execution_count": null,
      "outputs": []
    },
    {
      "cell_type": "markdown",
      "source": [
        "###L2-reg Logistic Regression on MNIST"
      ],
      "metadata": {
        "id": "S9yDi2XWlqqp"
      }
    },
    {
      "cell_type": "code",
      "source": [
        "log_reg_mnist_5 = LogisticRegression(penalty='l2', solver='lbfgs', max_iter=5000, multi_class='multinomial')\n",
        "log_reg_mnist_20 = LogisticRegression(penalty='l2', solver='lbfgs', max_iter=5000, multi_class='multinomial')"
      ],
      "metadata": {
        "id": "HylfJpiXVMrB"
      },
      "execution_count": null,
      "outputs": []
    },
    {
      "cell_type": "code",
      "source": [
        "log_reg_mnist_5.fit(mnist_pca_5, mnist_labels)\n",
        "log_reg_mnist_20.fit(mnist_pca_20, mnist_labels)"
      ],
      "metadata": {
        "colab": {
          "base_uri": "https://localhost:8080/",
          "height": 75
        },
        "id": "J2qU8o9gNw5P",
        "outputId": "859ddb41-0067-4050-f1c5-22cd4fa3c60f"
      },
      "execution_count": null,
      "outputs": [
        {
          "output_type": "execute_result",
          "data": {
            "text/plain": [
              "LogisticRegression(max_iter=5000, multi_class='multinomial')"
            ],
            "text/html": [
              "<style>#sk-container-id-1 {color: black;background-color: white;}#sk-container-id-1 pre{padding: 0;}#sk-container-id-1 div.sk-toggleable {background-color: white;}#sk-container-id-1 label.sk-toggleable__label {cursor: pointer;display: block;width: 100%;margin-bottom: 0;padding: 0.3em;box-sizing: border-box;text-align: center;}#sk-container-id-1 label.sk-toggleable__label-arrow:before {content: \"▸\";float: left;margin-right: 0.25em;color: #696969;}#sk-container-id-1 label.sk-toggleable__label-arrow:hover:before {color: black;}#sk-container-id-1 div.sk-estimator:hover label.sk-toggleable__label-arrow:before {color: black;}#sk-container-id-1 div.sk-toggleable__content {max-height: 0;max-width: 0;overflow: hidden;text-align: left;background-color: #f0f8ff;}#sk-container-id-1 div.sk-toggleable__content pre {margin: 0.2em;color: black;border-radius: 0.25em;background-color: #f0f8ff;}#sk-container-id-1 input.sk-toggleable__control:checked~div.sk-toggleable__content {max-height: 200px;max-width: 100%;overflow: auto;}#sk-container-id-1 input.sk-toggleable__control:checked~label.sk-toggleable__label-arrow:before {content: \"▾\";}#sk-container-id-1 div.sk-estimator input.sk-toggleable__control:checked~label.sk-toggleable__label {background-color: #d4ebff;}#sk-container-id-1 div.sk-label input.sk-toggleable__control:checked~label.sk-toggleable__label {background-color: #d4ebff;}#sk-container-id-1 input.sk-hidden--visually {border: 0;clip: rect(1px 1px 1px 1px);clip: rect(1px, 1px, 1px, 1px);height: 1px;margin: -1px;overflow: hidden;padding: 0;position: absolute;width: 1px;}#sk-container-id-1 div.sk-estimator {font-family: monospace;background-color: #f0f8ff;border: 1px dotted black;border-radius: 0.25em;box-sizing: border-box;margin-bottom: 0.5em;}#sk-container-id-1 div.sk-estimator:hover {background-color: #d4ebff;}#sk-container-id-1 div.sk-parallel-item::after {content: \"\";width: 100%;border-bottom: 1px solid gray;flex-grow: 1;}#sk-container-id-1 div.sk-label:hover label.sk-toggleable__label {background-color: #d4ebff;}#sk-container-id-1 div.sk-serial::before {content: \"\";position: absolute;border-left: 1px solid gray;box-sizing: border-box;top: 0;bottom: 0;left: 50%;z-index: 0;}#sk-container-id-1 div.sk-serial {display: flex;flex-direction: column;align-items: center;background-color: white;padding-right: 0.2em;padding-left: 0.2em;position: relative;}#sk-container-id-1 div.sk-item {position: relative;z-index: 1;}#sk-container-id-1 div.sk-parallel {display: flex;align-items: stretch;justify-content: center;background-color: white;position: relative;}#sk-container-id-1 div.sk-item::before, #sk-container-id-1 div.sk-parallel-item::before {content: \"\";position: absolute;border-left: 1px solid gray;box-sizing: border-box;top: 0;bottom: 0;left: 50%;z-index: -1;}#sk-container-id-1 div.sk-parallel-item {display: flex;flex-direction: column;z-index: 1;position: relative;background-color: white;}#sk-container-id-1 div.sk-parallel-item:first-child::after {align-self: flex-end;width: 50%;}#sk-container-id-1 div.sk-parallel-item:last-child::after {align-self: flex-start;width: 50%;}#sk-container-id-1 div.sk-parallel-item:only-child::after {width: 0;}#sk-container-id-1 div.sk-dashed-wrapped {border: 1px dashed gray;margin: 0 0.4em 0.5em 0.4em;box-sizing: border-box;padding-bottom: 0.4em;background-color: white;}#sk-container-id-1 div.sk-label label {font-family: monospace;font-weight: bold;display: inline-block;line-height: 1.2em;}#sk-container-id-1 div.sk-label-container {text-align: center;}#sk-container-id-1 div.sk-container {/* jupyter's `normalize.less` sets `[hidden] { display: none; }` but bootstrap.min.css set `[hidden] { display: none !important; }` so we also need the `!important` here to be able to override the default hidden behavior on the sphinx rendered scikit-learn.org. See: https://github.com/scikit-learn/scikit-learn/issues/21755 */display: inline-block !important;position: relative;}#sk-container-id-1 div.sk-text-repr-fallback {display: none;}</style><div id=\"sk-container-id-1\" class=\"sk-top-container\"><div class=\"sk-text-repr-fallback\"><pre>LogisticRegression(max_iter=5000, multi_class=&#x27;multinomial&#x27;)</pre><b>In a Jupyter environment, please rerun this cell to show the HTML representation or trust the notebook. <br />On GitHub, the HTML representation is unable to render, please try loading this page with nbviewer.org.</b></div><div class=\"sk-container\" hidden><div class=\"sk-item\"><div class=\"sk-estimator sk-toggleable\"><input class=\"sk-toggleable__control sk-hidden--visually\" id=\"sk-estimator-id-1\" type=\"checkbox\" checked><label for=\"sk-estimator-id-1\" class=\"sk-toggleable__label sk-toggleable__label-arrow\">LogisticRegression</label><div class=\"sk-toggleable__content\"><pre>LogisticRegression(max_iter=5000, multi_class=&#x27;multinomial&#x27;)</pre></div></div></div></div></div>"
            ]
          },
          "metadata": {},
          "execution_count": 7
        }
      ]
    },
    {
      "cell_type": "markdown",
      "source": [
        "#### Classification performance"
      ],
      "metadata": {
        "id": "CzWGSqmaw2NT"
      }
    },
    {
      "cell_type": "code",
      "source": [
        "# Testing performance from PB1"
      ],
      "metadata": {
        "colab": {
          "base_uri": "https://localhost:8080/"
        },
        "id": "4yLbc3mTBXzN",
        "outputId": "c6fbf560-2bc9-4eea-cc9b-58893e643227"
      },
      "execution_count": null,
      "outputs": [
        {
          "output_type": "stream",
          "name": "stdout",
          "text": [
            "Accuracy: 0.9179\n",
            "Classification Report:\n",
            "              precision    recall  f1-score   support\n",
            "\n",
            "           0       0.95      0.97      0.96       980\n",
            "           1       0.97      0.98      0.97      1135\n",
            "           2       0.91      0.89      0.90      1032\n",
            "           3       0.89      0.92      0.90      1010\n",
            "           4       0.91      0.92      0.92       982\n",
            "           5       0.90      0.86      0.88       892\n",
            "           6       0.94      0.95      0.94       958\n",
            "           7       0.93      0.91      0.92      1028\n",
            "           8       0.86      0.88      0.87       974\n",
            "           9       0.89      0.89      0.89      1009\n",
            "\n",
            "    accuracy                           0.92     10000\n",
            "   macro avg       0.92      0.92      0.92     10000\n",
            "weighted avg       0.92      0.92      0.92     10000\n",
            "\n"
          ]
        }
      ]
    },
    {
      "cell_type": "code",
      "source": [
        "# Testing performance from PB2"
      ],
      "metadata": {
        "colab": {
          "base_uri": "https://localhost:8080/"
        },
        "id": "2BK0_wNyOXnZ",
        "outputId": "bd194497-2388-4e6f-faca-b3c7f4fee516"
      },
      "execution_count": null,
      "outputs": [
        {
          "output_type": "stream",
          "name": "stdout",
          "text": [
            "Accuracy: 0.6871\n",
            "Classification Report:\n",
            "              precision    recall  f1-score   support\n",
            "\n",
            "           0       0.77      0.83      0.80       980\n",
            "           1       0.89      0.94      0.92      1135\n",
            "           2       0.71      0.66      0.68      1032\n",
            "           3       0.59      0.75      0.66      1010\n",
            "           4       0.63      0.64      0.63       982\n",
            "           5       0.41      0.27      0.33       892\n",
            "           6       0.85      0.85      0.85       958\n",
            "           7       0.75      0.79      0.77      1028\n",
            "           8       0.50      0.42      0.45       974\n",
            "           9       0.60      0.64      0.62      1009\n",
            "\n",
            "    accuracy                           0.69     10000\n",
            "   macro avg       0.67      0.68      0.67     10000\n",
            "weighted avg       0.68      0.69      0.68     10000\n",
            "\n"
          ]
        }
      ]
    },
    {
      "cell_type": "code",
      "source": [
        "# Testing performance for D=5\n",
        "mnist_pred = log_reg_mnist_5.predict(mnist_test_pca_5)\n",
        "accuracy = accuracy_score(mnist_labels_test, mnist_pred)\n",
        "print(f\"Accuracy: {accuracy:.4f}\")\n",
        "\n",
        "class_report = classification_report(mnist_labels_test, mnist_pred)\n",
        "print(\"Classification Report:\")\n",
        "print(class_report)"
      ],
      "metadata": {
        "colab": {
          "base_uri": "https://localhost:8080/"
        },
        "id": "A0cbrBM0ejPW",
        "outputId": "f476c55e-3435-49a6-f7e1-996af609d10c"
      },
      "execution_count": null,
      "outputs": [
        {
          "output_type": "stream",
          "name": "stdout",
          "text": [
            "Accuracy: 0.6858\n",
            "Classification Report:\n",
            "              precision    recall  f1-score   support\n",
            "\n",
            "           0       0.85      0.89      0.87       980\n",
            "           1       0.85      0.94      0.90      1135\n",
            "           2       0.63      0.53      0.58      1032\n",
            "           3       0.65      0.71      0.68      1010\n",
            "           4       0.62      0.68      0.65       982\n",
            "           5       0.61      0.53      0.57       892\n",
            "           6       0.63      0.67      0.65       958\n",
            "           7       0.71      0.75      0.73      1028\n",
            "           8       0.65      0.61      0.63       974\n",
            "           9       0.58      0.50      0.53      1009\n",
            "\n",
            "    accuracy                           0.69     10000\n",
            "   macro avg       0.68      0.68      0.68     10000\n",
            "weighted avg       0.68      0.69      0.68     10000\n",
            "\n"
          ]
        }
      ]
    },
    {
      "cell_type": "code",
      "source": [
        "# testing performance from PB2"
      ],
      "metadata": {
        "colab": {
          "base_uri": "https://localhost:8080/"
        },
        "id": "-kUszsP4Ooqx",
        "outputId": "d46093f9-2431-497d-c73a-f607c66cb7b2"
      },
      "execution_count": null,
      "outputs": [
        {
          "output_type": "stream",
          "name": "stdout",
          "text": [
            "Accuracy: 0.8792\n",
            "Classification Report:\n",
            "              precision    recall  f1-score   support\n",
            "\n",
            "           0       0.92      0.95      0.94       980\n",
            "           1       0.95      0.97      0.96      1135\n",
            "           2       0.89      0.84      0.87      1032\n",
            "           3       0.85      0.87      0.86      1010\n",
            "           4       0.88      0.89      0.88       982\n",
            "           5       0.84      0.79      0.81       892\n",
            "           6       0.91      0.92      0.92       958\n",
            "           7       0.90      0.86      0.88      1028\n",
            "           8       0.82      0.83      0.83       974\n",
            "           9       0.82      0.85      0.83      1009\n",
            "\n",
            "    accuracy                           0.88     10000\n",
            "   macro avg       0.88      0.88      0.88     10000\n",
            "weighted avg       0.88      0.88      0.88     10000\n",
            "\n"
          ]
        }
      ]
    },
    {
      "cell_type": "code",
      "source": [
        "# Testing performance for D=20\n",
        "mnist_pred = log_reg_mnist_20.predict(mnist_test_pca_20)\n",
        "accuracy = accuracy_score(mnist_labels_test, mnist_pred)\n",
        "print(f\"Accuracy: {accuracy:.4f}\")\n",
        "\n",
        "# Classification report\n",
        "class_report = classification_report(mnist_labels_test, mnist_pred)\n",
        "print(\"Classification Report:\")\n",
        "print(class_report)"
      ],
      "metadata": {
        "colab": {
          "base_uri": "https://localhost:8080/"
        },
        "id": "taF8CYyJer1F",
        "outputId": "269b006f-bbf1-4961-fde5-f3580f60f4e8"
      },
      "execution_count": null,
      "outputs": [
        {
          "output_type": "stream",
          "name": "stdout",
          "text": [
            "Accuracy: 0.8796\n",
            "Classification Report:\n",
            "              precision    recall  f1-score   support\n",
            "\n",
            "           0       0.93      0.96      0.94       980\n",
            "           1       0.95      0.97      0.96      1135\n",
            "           2       0.87      0.84      0.85      1032\n",
            "           3       0.86      0.87      0.86      1010\n",
            "           4       0.86      0.89      0.88       982\n",
            "           5       0.81      0.81      0.81       892\n",
            "           6       0.91      0.91      0.91       958\n",
            "           7       0.91      0.89      0.90      1028\n",
            "           8       0.85      0.80      0.82       974\n",
            "           9       0.83      0.84      0.84      1009\n",
            "\n",
            "    accuracy                           0.88     10000\n",
            "   macro avg       0.88      0.88      0.88     10000\n",
            "weighted avg       0.88      0.88      0.88     10000\n",
            "\n"
          ]
        }
      ]
    },
    {
      "cell_type": "markdown",
      "source": [
        "###Decision Tree on MNIST"
      ],
      "metadata": {
        "id": "eW9N5Q-Kl_aL"
      }
    },
    {
      "cell_type": "code",
      "source": [
        "tree_clf_mnist_5 = DecisionTreeClassifier()\n",
        "tree_clf_mnist_20 = DecisionTreeClassifier()"
      ],
      "metadata": {
        "id": "WX9rsciJmEKX"
      },
      "execution_count": null,
      "outputs": []
    },
    {
      "cell_type": "code",
      "source": [
        "tree_clf_mnist_5.fit(mnist_pca_5, mnist_labels)\n",
        "tree_clf_mnist_20.fit(mnist_pca_20, mnist_labels)"
      ],
      "metadata": {
        "colab": {
          "base_uri": "https://localhost:8080/",
          "height": 75
        },
        "id": "SGX4d0yBRKH4",
        "outputId": "ab229193-b291-4786-d3be-4d425efb1ad2"
      },
      "execution_count": null,
      "outputs": [
        {
          "output_type": "execute_result",
          "data": {
            "text/plain": [
              "DecisionTreeClassifier()"
            ],
            "text/html": [
              "<style>#sk-container-id-2 {color: black;background-color: white;}#sk-container-id-2 pre{padding: 0;}#sk-container-id-2 div.sk-toggleable {background-color: white;}#sk-container-id-2 label.sk-toggleable__label {cursor: pointer;display: block;width: 100%;margin-bottom: 0;padding: 0.3em;box-sizing: border-box;text-align: center;}#sk-container-id-2 label.sk-toggleable__label-arrow:before {content: \"▸\";float: left;margin-right: 0.25em;color: #696969;}#sk-container-id-2 label.sk-toggleable__label-arrow:hover:before {color: black;}#sk-container-id-2 div.sk-estimator:hover label.sk-toggleable__label-arrow:before {color: black;}#sk-container-id-2 div.sk-toggleable__content {max-height: 0;max-width: 0;overflow: hidden;text-align: left;background-color: #f0f8ff;}#sk-container-id-2 div.sk-toggleable__content pre {margin: 0.2em;color: black;border-radius: 0.25em;background-color: #f0f8ff;}#sk-container-id-2 input.sk-toggleable__control:checked~div.sk-toggleable__content {max-height: 200px;max-width: 100%;overflow: auto;}#sk-container-id-2 input.sk-toggleable__control:checked~label.sk-toggleable__label-arrow:before {content: \"▾\";}#sk-container-id-2 div.sk-estimator input.sk-toggleable__control:checked~label.sk-toggleable__label {background-color: #d4ebff;}#sk-container-id-2 div.sk-label input.sk-toggleable__control:checked~label.sk-toggleable__label {background-color: #d4ebff;}#sk-container-id-2 input.sk-hidden--visually {border: 0;clip: rect(1px 1px 1px 1px);clip: rect(1px, 1px, 1px, 1px);height: 1px;margin: -1px;overflow: hidden;padding: 0;position: absolute;width: 1px;}#sk-container-id-2 div.sk-estimator {font-family: monospace;background-color: #f0f8ff;border: 1px dotted black;border-radius: 0.25em;box-sizing: border-box;margin-bottom: 0.5em;}#sk-container-id-2 div.sk-estimator:hover {background-color: #d4ebff;}#sk-container-id-2 div.sk-parallel-item::after {content: \"\";width: 100%;border-bottom: 1px solid gray;flex-grow: 1;}#sk-container-id-2 div.sk-label:hover label.sk-toggleable__label {background-color: #d4ebff;}#sk-container-id-2 div.sk-serial::before {content: \"\";position: absolute;border-left: 1px solid gray;box-sizing: border-box;top: 0;bottom: 0;left: 50%;z-index: 0;}#sk-container-id-2 div.sk-serial {display: flex;flex-direction: column;align-items: center;background-color: white;padding-right: 0.2em;padding-left: 0.2em;position: relative;}#sk-container-id-2 div.sk-item {position: relative;z-index: 1;}#sk-container-id-2 div.sk-parallel {display: flex;align-items: stretch;justify-content: center;background-color: white;position: relative;}#sk-container-id-2 div.sk-item::before, #sk-container-id-2 div.sk-parallel-item::before {content: \"\";position: absolute;border-left: 1px solid gray;box-sizing: border-box;top: 0;bottom: 0;left: 50%;z-index: -1;}#sk-container-id-2 div.sk-parallel-item {display: flex;flex-direction: column;z-index: 1;position: relative;background-color: white;}#sk-container-id-2 div.sk-parallel-item:first-child::after {align-self: flex-end;width: 50%;}#sk-container-id-2 div.sk-parallel-item:last-child::after {align-self: flex-start;width: 50%;}#sk-container-id-2 div.sk-parallel-item:only-child::after {width: 0;}#sk-container-id-2 div.sk-dashed-wrapped {border: 1px dashed gray;margin: 0 0.4em 0.5em 0.4em;box-sizing: border-box;padding-bottom: 0.4em;background-color: white;}#sk-container-id-2 div.sk-label label {font-family: monospace;font-weight: bold;display: inline-block;line-height: 1.2em;}#sk-container-id-2 div.sk-label-container {text-align: center;}#sk-container-id-2 div.sk-container {/* jupyter's `normalize.less` sets `[hidden] { display: none; }` but bootstrap.min.css set `[hidden] { display: none !important; }` so we also need the `!important` here to be able to override the default hidden behavior on the sphinx rendered scikit-learn.org. See: https://github.com/scikit-learn/scikit-learn/issues/21755 */display: inline-block !important;position: relative;}#sk-container-id-2 div.sk-text-repr-fallback {display: none;}</style><div id=\"sk-container-id-2\" class=\"sk-top-container\"><div class=\"sk-text-repr-fallback\"><pre>DecisionTreeClassifier()</pre><b>In a Jupyter environment, please rerun this cell to show the HTML representation or trust the notebook. <br />On GitHub, the HTML representation is unable to render, please try loading this page with nbviewer.org.</b></div><div class=\"sk-container\" hidden><div class=\"sk-item\"><div class=\"sk-estimator sk-toggleable\"><input class=\"sk-toggleable__control sk-hidden--visually\" id=\"sk-estimator-id-2\" type=\"checkbox\" checked><label for=\"sk-estimator-id-2\" class=\"sk-toggleable__label sk-toggleable__label-arrow\">DecisionTreeClassifier</label><div class=\"sk-toggleable__content\"><pre>DecisionTreeClassifier()</pre></div></div></div></div></div>"
            ]
          },
          "metadata": {},
          "execution_count": 11
        }
      ]
    },
    {
      "cell_type": "markdown",
      "source": [
        "#### Classification performance"
      ],
      "metadata": {
        "id": "9P-jMRkezEDz"
      }
    },
    {
      "cell_type": "code",
      "source": [
        "# Testing performance from PB1"
      ],
      "metadata": {
        "colab": {
          "base_uri": "https://localhost:8080/"
        },
        "id": "IeA47aRZH8Wi",
        "outputId": "802df7a3-d8dc-4768-f50e-4aad00159761"
      },
      "execution_count": null,
      "outputs": [
        {
          "output_type": "stream",
          "name": "stdout",
          "text": [
            "Accuracy: 0.8916\n",
            "Classification Report:\n",
            "              precision    recall  f1-score   support\n",
            "\n",
            "           0       0.93      0.94      0.93       980\n",
            "           1       0.94      0.96      0.95      1135\n",
            "           2       0.88      0.88      0.88      1032\n",
            "           3       0.84      0.86      0.85      1010\n",
            "           4       0.89      0.90      0.90       982\n",
            "           5       0.87      0.84      0.85       892\n",
            "           6       0.91      0.91      0.91       958\n",
            "           7       0.93      0.91      0.92      1028\n",
            "           8       0.83      0.82      0.83       974\n",
            "           9       0.88      0.88      0.88      1009\n",
            "\n",
            "    accuracy                           0.89     10000\n",
            "   macro avg       0.89      0.89      0.89     10000\n",
            "weighted avg       0.89      0.89      0.89     10000\n",
            "\n"
          ]
        }
      ]
    },
    {
      "cell_type": "code",
      "source": [
        "# Testing performance PB2"
      ],
      "metadata": {
        "colab": {
          "base_uri": "https://localhost:8080/"
        },
        "id": "APqDQUhiT-oV",
        "outputId": "3939993b-d721-4f7a-95a1-f3c91cff1a9e"
      },
      "execution_count": null,
      "outputs": [
        {
          "output_type": "stream",
          "name": "stdout",
          "text": [
            "Accuracy: 0.7026\n",
            "Classification Report:\n",
            "              precision    recall  f1-score   support\n",
            "\n",
            "           0       0.82      0.83      0.82       980\n",
            "           1       0.94      0.95      0.95      1135\n",
            "           2       0.78      0.79      0.79      1032\n",
            "           3       0.64      0.64      0.64      1010\n",
            "           4       0.62      0.61      0.61       982\n",
            "           5       0.46      0.47      0.46       892\n",
            "           6       0.88      0.86      0.87       958\n",
            "           7       0.75      0.77      0.76      1028\n",
            "           8       0.46      0.45      0.45       974\n",
            "           9       0.62      0.59      0.61      1009\n",
            "\n",
            "    accuracy                           0.70     10000\n",
            "   macro avg       0.70      0.70      0.70     10000\n",
            "weighted avg       0.70      0.70      0.70     10000\n",
            "\n"
          ]
        }
      ]
    },
    {
      "cell_type": "code",
      "source": [
        "mnist_pred_dt = tree_clf_mnist_5.predict(mnist_test_pca_5)\n",
        "accuracy = accuracy_score(mnist_labels_test, mnist_pred_dt)\n",
        "print(f\"Accuracy: {accuracy:.4f}\")\n",
        "\n",
        "# Classification report\n",
        "class_report = classification_report(mnist_labels_test, mnist_pred_dt)\n",
        "print(\"Classification Report:\")\n",
        "print(class_report)"
      ],
      "metadata": {
        "colab": {
          "base_uri": "https://localhost:8080/"
        },
        "id": "8BF-pVh-fASv",
        "outputId": "67259704-8e27-4576-c11c-ed4b2fb376b7"
      },
      "execution_count": null,
      "outputs": [
        {
          "output_type": "stream",
          "name": "stdout",
          "text": [
            "Accuracy: 0.6781\n",
            "Classification Report:\n",
            "              precision    recall  f1-score   support\n",
            "\n",
            "           0       0.82      0.85      0.84       980\n",
            "           1       0.93      0.94      0.93      1135\n",
            "           2       0.64      0.64      0.64      1032\n",
            "           3       0.63      0.68      0.65      1010\n",
            "           4       0.59      0.58      0.59       982\n",
            "           5       0.63      0.61      0.62       892\n",
            "           6       0.66      0.63      0.65       958\n",
            "           7       0.69      0.69      0.69      1028\n",
            "           8       0.61      0.57      0.59       974\n",
            "           9       0.53      0.54      0.53      1009\n",
            "\n",
            "    accuracy                           0.68     10000\n",
            "   macro avg       0.67      0.67      0.67     10000\n",
            "weighted avg       0.68      0.68      0.68     10000\n",
            "\n"
          ]
        }
      ]
    },
    {
      "cell_type": "code",
      "source": [
        "# Testing performance PB2"
      ],
      "metadata": {
        "colab": {
          "base_uri": "https://localhost:8080/"
        },
        "id": "60zyL3w5Uvo7",
        "outputId": "34f0e496-4f9f-430e-e59c-6c4d4a2abc0c"
      },
      "execution_count": null,
      "outputs": [
        {
          "output_type": "stream",
          "name": "stdout",
          "text": [
            "Accuracy: 0.8476\n",
            "Classification Report:\n",
            "              precision    recall  f1-score   support\n",
            "\n",
            "           0       0.90      0.92      0.91       980\n",
            "           1       0.96      0.95      0.96      1135\n",
            "           2       0.84      0.83      0.83      1032\n",
            "           3       0.80      0.80      0.80      1010\n",
            "           4       0.82      0.83      0.83       982\n",
            "           5       0.79      0.79      0.79       892\n",
            "           6       0.94      0.90      0.92       958\n",
            "           7       0.85      0.87      0.86      1028\n",
            "           8       0.77      0.78      0.77       974\n",
            "           9       0.79      0.78      0.79      1009\n",
            "\n",
            "    accuracy                           0.85     10000\n",
            "   macro avg       0.85      0.85      0.85     10000\n",
            "weighted avg       0.85      0.85      0.85     10000\n",
            "\n"
          ]
        }
      ]
    },
    {
      "cell_type": "code",
      "source": [
        "mnist_pred_dt = tree_clf_mnist_20.predict(mnist_test_pca_20)\n",
        "accuracy = accuracy_score(mnist_labels_test, mnist_pred_dt)\n",
        "print(f\"Accuracy: {accuracy:.4f}\")\n",
        "\n",
        "# Classification report\n",
        "class_report = classification_report(mnist_labels_test, mnist_pred_dt)\n",
        "print(\"Classification Report:\")\n",
        "print(class_report)"
      ],
      "metadata": {
        "colab": {
          "base_uri": "https://localhost:8080/"
        },
        "id": "GXy6UC5bfGN5",
        "outputId": "c24798d2-3b58-42ca-c1d8-76266bedac28"
      },
      "execution_count": null,
      "outputs": [
        {
          "output_type": "stream",
          "name": "stdout",
          "text": [
            "Accuracy: 0.8475\n",
            "Classification Report:\n",
            "              precision    recall  f1-score   support\n",
            "\n",
            "           0       0.89      0.90      0.90       980\n",
            "           1       0.94      0.97      0.95      1135\n",
            "           2       0.86      0.83      0.85      1032\n",
            "           3       0.82      0.82      0.82      1010\n",
            "           4       0.82      0.84      0.83       982\n",
            "           5       0.77      0.76      0.77       892\n",
            "           6       0.91      0.90      0.90       958\n",
            "           7       0.88      0.86      0.87      1028\n",
            "           8       0.79      0.77      0.78       974\n",
            "           9       0.78      0.80      0.79      1009\n",
            "\n",
            "    accuracy                           0.85     10000\n",
            "   macro avg       0.85      0.85      0.85     10000\n",
            "weighted avg       0.85      0.85      0.85     10000\n",
            "\n"
          ]
        }
      ]
    },
    {
      "cell_type": "markdown",
      "source": [
        "###B) Run PCA library on Spambase and repeat one of the classification algorithms. What is the smallest D (number of PCA dimensions) you need to get a comparable test result?"
      ],
      "metadata": {
        "id": "8qO_ZwbSJhO9"
      }
    },
    {
      "cell_type": "markdown",
      "source": [
        "###Preprocessing Spambase"
      ],
      "metadata": {
        "id": "ehk7kYTAFnG5"
      }
    },
    {
      "cell_type": "code",
      "source": [
        "# Spambase dataset\n",
        "spambase_dataset = np.loadtxt('/content/drive/MyDrive/USML/HW 3A/spambase/spambase.data', delimiter=',')\n",
        "spambase_labels = spambase_dataset[:,57]\n",
        "spambase_data = spambase_dataset[:,:57]\n",
        "\n",
        "spambase_train_data, spambase_test_data, spambase_train_lbl, spambase_test_lbl = train_test_split(spambase_data, spambase_labels, test_size=0.2, random_state=42)\n",
        "\n",
        "# Specify the path to your file\n",
        "file_path = '/content/drive/MyDrive/USML/HW 3A/spambase/features'\n",
        "\n",
        "# Open the file for reading\n",
        "with open(file_path, 'r') as file:\n",
        "    # Read each line in the file\n",
        "    lines = file.readlines()\n",
        "\n",
        "target_names = [string.strip() for string in lines]"
      ],
      "metadata": {
        "id": "ea8rAMpwqsVC"
      },
      "execution_count": null,
      "outputs": []
    },
    {
      "cell_type": "code",
      "source": [
        "# PCA\n",
        "D = 30\n",
        "pca = PCA_implementation(n_components=D)\n",
        "spambase_pca_train = pca.fit_transform(spambase_train_data)\n",
        "\n",
        "# test data\n",
        "spambase_pca_test = pca.transform(spambase_test_data)"
      ],
      "metadata": {
        "id": "Rek66j5QjwRg"
      },
      "execution_count": null,
      "outputs": []
    },
    {
      "cell_type": "markdown",
      "source": [
        "###L2-reg Logistic Regression on Spambase"
      ],
      "metadata": {
        "id": "uJzBywUWl18_"
      }
    },
    {
      "cell_type": "code",
      "source": [
        "log_reg_spambase = LogisticRegression(penalty='l2', solver='lbfgs', max_iter=5000)\n",
        "log_reg_spambase.fit(spambase_pca_train, spambase_train_lbl)"
      ],
      "metadata": {
        "id": "67fh_qJxl45k",
        "colab": {
          "base_uri": "https://localhost:8080/",
          "height": 75
        },
        "outputId": "5b890e30-e8bf-417d-eedf-e17440519b4a"
      },
      "execution_count": null,
      "outputs": [
        {
          "output_type": "execute_result",
          "data": {
            "text/plain": [
              "LogisticRegression(max_iter=5000)"
            ],
            "text/html": [
              "<style>#sk-container-id-3 {color: black;background-color: white;}#sk-container-id-3 pre{padding: 0;}#sk-container-id-3 div.sk-toggleable {background-color: white;}#sk-container-id-3 label.sk-toggleable__label {cursor: pointer;display: block;width: 100%;margin-bottom: 0;padding: 0.3em;box-sizing: border-box;text-align: center;}#sk-container-id-3 label.sk-toggleable__label-arrow:before {content: \"▸\";float: left;margin-right: 0.25em;color: #696969;}#sk-container-id-3 label.sk-toggleable__label-arrow:hover:before {color: black;}#sk-container-id-3 div.sk-estimator:hover label.sk-toggleable__label-arrow:before {color: black;}#sk-container-id-3 div.sk-toggleable__content {max-height: 0;max-width: 0;overflow: hidden;text-align: left;background-color: #f0f8ff;}#sk-container-id-3 div.sk-toggleable__content pre {margin: 0.2em;color: black;border-radius: 0.25em;background-color: #f0f8ff;}#sk-container-id-3 input.sk-toggleable__control:checked~div.sk-toggleable__content {max-height: 200px;max-width: 100%;overflow: auto;}#sk-container-id-3 input.sk-toggleable__control:checked~label.sk-toggleable__label-arrow:before {content: \"▾\";}#sk-container-id-3 div.sk-estimator input.sk-toggleable__control:checked~label.sk-toggleable__label {background-color: #d4ebff;}#sk-container-id-3 div.sk-label input.sk-toggleable__control:checked~label.sk-toggleable__label {background-color: #d4ebff;}#sk-container-id-3 input.sk-hidden--visually {border: 0;clip: rect(1px 1px 1px 1px);clip: rect(1px, 1px, 1px, 1px);height: 1px;margin: -1px;overflow: hidden;padding: 0;position: absolute;width: 1px;}#sk-container-id-3 div.sk-estimator {font-family: monospace;background-color: #f0f8ff;border: 1px dotted black;border-radius: 0.25em;box-sizing: border-box;margin-bottom: 0.5em;}#sk-container-id-3 div.sk-estimator:hover {background-color: #d4ebff;}#sk-container-id-3 div.sk-parallel-item::after {content: \"\";width: 100%;border-bottom: 1px solid gray;flex-grow: 1;}#sk-container-id-3 div.sk-label:hover label.sk-toggleable__label {background-color: #d4ebff;}#sk-container-id-3 div.sk-serial::before {content: \"\";position: absolute;border-left: 1px solid gray;box-sizing: border-box;top: 0;bottom: 0;left: 50%;z-index: 0;}#sk-container-id-3 div.sk-serial {display: flex;flex-direction: column;align-items: center;background-color: white;padding-right: 0.2em;padding-left: 0.2em;position: relative;}#sk-container-id-3 div.sk-item {position: relative;z-index: 1;}#sk-container-id-3 div.sk-parallel {display: flex;align-items: stretch;justify-content: center;background-color: white;position: relative;}#sk-container-id-3 div.sk-item::before, #sk-container-id-3 div.sk-parallel-item::before {content: \"\";position: absolute;border-left: 1px solid gray;box-sizing: border-box;top: 0;bottom: 0;left: 50%;z-index: -1;}#sk-container-id-3 div.sk-parallel-item {display: flex;flex-direction: column;z-index: 1;position: relative;background-color: white;}#sk-container-id-3 div.sk-parallel-item:first-child::after {align-self: flex-end;width: 50%;}#sk-container-id-3 div.sk-parallel-item:last-child::after {align-self: flex-start;width: 50%;}#sk-container-id-3 div.sk-parallel-item:only-child::after {width: 0;}#sk-container-id-3 div.sk-dashed-wrapped {border: 1px dashed gray;margin: 0 0.4em 0.5em 0.4em;box-sizing: border-box;padding-bottom: 0.4em;background-color: white;}#sk-container-id-3 div.sk-label label {font-family: monospace;font-weight: bold;display: inline-block;line-height: 1.2em;}#sk-container-id-3 div.sk-label-container {text-align: center;}#sk-container-id-3 div.sk-container {/* jupyter's `normalize.less` sets `[hidden] { display: none; }` but bootstrap.min.css set `[hidden] { display: none !important; }` so we also need the `!important` here to be able to override the default hidden behavior on the sphinx rendered scikit-learn.org. See: https://github.com/scikit-learn/scikit-learn/issues/21755 */display: inline-block !important;position: relative;}#sk-container-id-3 div.sk-text-repr-fallback {display: none;}</style><div id=\"sk-container-id-3\" class=\"sk-top-container\"><div class=\"sk-text-repr-fallback\"><pre>LogisticRegression(max_iter=5000)</pre><b>In a Jupyter environment, please rerun this cell to show the HTML representation or trust the notebook. <br />On GitHub, the HTML representation is unable to render, please try loading this page with nbviewer.org.</b></div><div class=\"sk-container\" hidden><div class=\"sk-item\"><div class=\"sk-estimator sk-toggleable\"><input class=\"sk-toggleable__control sk-hidden--visually\" id=\"sk-estimator-id-3\" type=\"checkbox\" checked><label for=\"sk-estimator-id-3\" class=\"sk-toggleable__label sk-toggleable__label-arrow\">LogisticRegression</label><div class=\"sk-toggleable__content\"><pre>LogisticRegression(max_iter=5000)</pre></div></div></div></div></div>"
            ]
          },
          "metadata": {},
          "execution_count": 16
        }
      ]
    },
    {
      "cell_type": "markdown",
      "source": [
        "#### Classification performance"
      ],
      "metadata": {
        "id": "60UqdUIODkka"
      }
    },
    {
      "cell_type": "code",
      "source": [
        "# Performace on PB1 (57 features)"
      ],
      "metadata": {
        "colab": {
          "base_uri": "https://localhost:8080/"
        },
        "id": "rYt_7Bc_DtNA",
        "outputId": "8b1f678c-4193-461b-8a40-692eb8e213b5"
      },
      "execution_count": null,
      "outputs": [
        {
          "output_type": "stream",
          "name": "stdout",
          "text": [
            "Accuracy: 0.9218\n",
            "Classification Report:\n",
            "              precision    recall  f1-score   support\n",
            "\n",
            "         0.0       0.92      0.95      0.93       531\n",
            "         1.0       0.93      0.88      0.91       390\n",
            "\n",
            "    accuracy                           0.92       921\n",
            "   macro avg       0.92      0.92      0.92       921\n",
            "weighted avg       0.92      0.92      0.92       921\n",
            "\n"
          ]
        }
      ]
    },
    {
      "cell_type": "code",
      "source": [
        "# Testing performace PB2"
      ],
      "metadata": {
        "id": "ICnDJYM1DooX",
        "colab": {
          "base_uri": "https://localhost:8080/"
        },
        "outputId": "71e4c986-aed4-4110-e50f-c2f99f5e3be9"
      },
      "execution_count": null,
      "outputs": [
        {
          "output_type": "stream",
          "name": "stdout",
          "text": [
            "Number of features: 30\n",
            "Accuracy: 0.9131\n",
            "Classification Report:\n",
            "              precision    recall  f1-score   support\n",
            "\n",
            "         0.0       0.90      0.96      0.93       531\n",
            "         1.0       0.94      0.85      0.89       390\n",
            "\n",
            "    accuracy                           0.91       921\n",
            "   macro avg       0.92      0.91      0.91       921\n",
            "weighted avg       0.91      0.91      0.91       921\n",
            "\n"
          ]
        }
      ]
    },
    {
      "cell_type": "code",
      "source": [
        "print(f\"Number of features: {D}\")\n",
        "spambase_pred = log_reg_spambase.predict(spambase_pca_test)\n",
        "accuracy = accuracy_score(spambase_test_lbl, spambase_pred)\n",
        "print(f\"Accuracy: {accuracy:.4f}\")\n",
        "\n",
        "# Classification report\n",
        "class_report = classification_report(spambase_test_lbl, spambase_pred)\n",
        "print(\"Classification Report:\")\n",
        "print(class_report)"
      ],
      "metadata": {
        "id": "L_zMVDMQnT1G",
        "colab": {
          "base_uri": "https://localhost:8080/"
        },
        "outputId": "3c0d7b68-57ca-4ee6-bc3c-c627c927c5ef"
      },
      "execution_count": null,
      "outputs": [
        {
          "output_type": "stream",
          "name": "stdout",
          "text": [
            "Number of features: 30\n",
            "Accuracy: 0.8599\n",
            "Classification Report:\n",
            "              precision    recall  f1-score   support\n",
            "\n",
            "         0.0       0.82      0.97      0.89       531\n",
            "         1.0       0.94      0.71      0.81       390\n",
            "\n",
            "    accuracy                           0.86       921\n",
            "   macro avg       0.88      0.84      0.85       921\n",
            "weighted avg       0.87      0.86      0.86       921\n",
            "\n"
          ]
        }
      ]
    },
    {
      "cell_type": "code",
      "source": [],
      "metadata": {
        "id": "fTWhPCsiff_4"
      },
      "execution_count": null,
      "outputs": []
    }
  ]
}